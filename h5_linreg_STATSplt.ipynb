{
 "cells": [
  {
   "cell_type": "code",
   "execution_count": null,
   "metadata": {},
   "outputs": [],
   "source": [
    "import h5py as h5 \n",
    "import pandas as pd\n",
    "import numpy as np\n",
    "import os, sys\n",
    "import statsmodels.api as sm\n",
    "import matplotlib.pyplot as plt\n",
    "from matplotlib.lines import Line2D\n",
    "import pylab\n",
    "\n",
    "#graph the linear regression \n",
    "def graph(lambdafx, x_range):  \n",
    "    x = np.array(x_range)  \n",
    "    y = lambdafx(x) \n",
    "    ax = plt.plot(x, y) \n",
    "    plt.ylim(0,8)\n",
    "    plt.xlabel('')\n",
    "    plt.ylabel('')  \n"
   ]
  },
  {
   "cell_type": "code",
   "execution_count": null,
   "metadata": {},
   "outputs": [],
   "source": [
    "#filename: filenames MUST have subject name at the beginning e.g. 6891speed.h5\n",
    "directory = '/directory/name'"
   ]
  },
  {
   "cell_type": "code",
   "execution_count": null,
   "metadata": {
    "scrolled": false
   },
   "outputs": [],
   "source": [
    "#mx + b \n",
    "\n",
    "i_file = 0;\n",
    "for filename in sorted(os.listdir(directory)):\n",
    "    if filename.endswith(\".h5\"):\n",
    "        i_file = i_file + 1\n",
    "        \n",
    "        name = os.path.join(directory, filename)\n",
    "        print(filename)\n",
    "        df = pd.read_hdf(name)\n",
    "        \n",
    "        #remove rows with Nan, set index to trial \n",
    "        df = df.set_index('trial')\n",
    "        df = df.sort_index()\n",
    "        df = df.dropna(axis = 0)\n",
    "        \n",
    "        #get your x and y \n",
    "        speed = df[(str(filename[0:4]) + \" Avg Speed\")].values\n",
    "        trial = df.index\n",
    "        trial = [int(x) for x in trial]\n",
    "        #add constant (column of ones) for b \n",
    "        trial = sm.add_constant(trial)\n",
    "        \n",
    "        \n",
    "        results = sm.OLS(speed, trial).fit()\n",
    "        b = results.params[0] #y-intercept\n",
    "        m = results.params[1] #slope\n",
    "        print(results.summary())\n",
    "        \n",
    "        graph(lambda x: m*x+b, range(0,200))\n"
   ]
  },
  {
   "cell_type": "code",
   "execution_count": null,
   "metadata": {},
   "outputs": [],
   "source": [
    "#just mx \n",
    "\n",
    "i_file = 0;\n",
    "for filename in sorted(os.listdir(directory)):\n",
    "    if filename.endswith(\".h5\"):\n",
    "        i_file = i_file + 1\n",
    "        \n",
    "        name = os.path.join(directory, filename)\n",
    "        print(filename)\n",
    "        df = pd.read_hdf(name)\n",
    "        \n",
    "        #remove rows with Nan, set index to trial \n",
    "        df = df.set_index('trial')\n",
    "        df = df.sort_index()\n",
    "        df = df.dropna(axis = 0)\n",
    "        \n",
    "        #get your x and y \n",
    "        speed = df[(str(filename[0:4]) + \" Avg Speed\")].values\n",
    "        trial = df.index\n",
    "        trial = [int(x) for x in trial]\n",
    "\n",
    "        \n",
    "        results = sm.OLS(speed, trial).fit()\n",
    "        m = results.params #slope\n",
    "        print(results.summary())\n",
    "    \n",
    "        fig, ax = plt.subplots()\n",
    "        sm.graphics.plot_fit(results,0, ax=ax)\n",
    "        plt.show()\n",
    "        \n",
    "        graph(lambda x: m*x, range(0,200))"
   ]
  }
 ],
 "metadata": {
  "kernelspec": {
   "display_name": "Python 3",
   "language": "python",
   "name": "python3"
  },
  "language_info": {
   "codemirror_mode": {
    "name": "ipython",
    "version": 3
   },
   "file_extension": ".py",
   "mimetype": "text/x-python",
   "name": "python",
   "nbconvert_exporter": "python",
   "pygments_lexer": "ipython3",
   "version": "3.6.5"
  }
 },
 "nbformat": 4,
 "nbformat_minor": 2
}
