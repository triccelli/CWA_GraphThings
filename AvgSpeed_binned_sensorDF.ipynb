{
 "cells": [
  {
   "cell_type": "code",
   "execution_count": null,
   "metadata": {},
   "outputs": [],
   "source": [
    "#make line plot from dataframe \n",
    "#average speed across whole trial "
   ]
  },
  {
   "cell_type": "code",
   "execution_count": null,
   "metadata": {},
   "outputs": [],
   "source": [
    "##### DEPENDENCIES #####\n",
    "\n",
    "import numpy as np\n",
    "import matplotlib.pyplot as plt \n",
    "import h5py\n",
    "import pandas as pd\n",
    "import seaborn as sns \n",
    "import pylab\n",
    "from matplotlib.lines import Line2D\n",
    "import matplotlib as mpl"
   ]
  },
  {
   "cell_type": "code",
   "execution_count": null,
   "metadata": {},
   "outputs": [],
   "source": [
    "##### INPUT VARIABLES #####\n",
    "\n",
    "name = 'directory/name'\n",
    "bins = 3\n",
    "key = '' #name of column containing average speed\n",
    "file = pd.read_hdf(name)\n",
    "file = file.sort_values('trial') # sort by column 'trial'\n",
    "subjects = (list(file))[1:]\n"
   ]
  },
  {
   "cell_type": "code",
   "execution_count": null,
   "metadata": {
    "scrolled": true
   },
   "outputs": [],
   "source": [
    "##### MAIN CODE #####\n",
    "\n",
    "\n",
    "#unhash if you want the last 140 trials \n",
    "#file = file.iloc[66:]\n",
    "\n",
    "#slice the dataframe \n",
    "sliceSize = int(len(file)/bins)\n",
    "\n",
    "#lists needed for custom key for final graph \n",
    "yval = []\n",
    "xval = [] \n",
    "for i in range(0,bins): \n",
    "    xval.append(i+1)\n",
    "\n",
    "i_file = 0 \n",
    "for i in range(0,(bins)): \n",
    "    if i_file < bins: \n",
    "        df = file.iloc[(i*sliceSize):((i+1)*sliceSize)]\n",
    "        average = df[key].mean()\n",
    "        yval.append(average)\n",
    "    else: \n",
    "        df = file.iloc[(i*sliceSize):]\n",
    "        average = df[subject].mean()\n",
    "        yval.append(average)\n",
    "    i_file = i_file + 1\n",
    "\n",
    "\n",
    "plt.plot(xval, yval, linewidth=1, marker=\"X\", markersize = 10, color = 'k')\n",
    "plt.title(\"\")\n",
    "plt.xlabel(\"Bins\")\n",
    "plt.ylabel(\"Average speed (cm/s)\")\n",
    "plt.xlim()\n",
    "plt.ylim(2,9)\n",
    "plt.xticks([1,2,3])\n"
   ]
  }
 ],
 "metadata": {
  "kernelspec": {
   "display_name": "Python 3",
   "language": "python",
   "name": "python3"
  },
  "language_info": {
   "codemirror_mode": {
    "name": "ipython",
    "version": 3
   },
   "file_extension": ".py",
   "mimetype": "text/x-python",
   "name": "python",
   "nbconvert_exporter": "python",
   "pygments_lexer": "ipython3",
   "version": "3.6.5"
  }
 },
 "nbformat": 4,
 "nbformat_minor": 2
}
