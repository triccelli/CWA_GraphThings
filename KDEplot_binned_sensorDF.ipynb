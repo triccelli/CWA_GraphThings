{
 "cells": [
  {
   "cell_type": "code",
   "execution_count": null,
   "metadata": {},
   "outputs": [],
   "source": [
    "#make kde plot from dataframe\n",
    "#individual sensor data "
   ]
  },
  {
   "cell_type": "code",
   "execution_count": null,
   "metadata": {},
   "outputs": [],
   "source": [
    "##### DEPENDENCIES #####\n",
    "\n",
    "import numpy as np\n",
    "import matplotlib.pyplot as plt \n",
    "import h5py\n",
    "import pandas as pd\n",
    "import seaborn as sns \n",
    "import pylab\n",
    "from matplotlib.lines import Line2D"
   ]
  },
  {
   "cell_type": "code",
   "execution_count": null,
   "metadata": {},
   "outputs": [],
   "source": [
    "##### INPUT VARIABLES #####\n",
    "\n",
    "#name = name and location of file\n",
    "#number of bins you want for analysis\n",
    "#number of columns in DF \n",
    "name = 'directory/name.h5'\n",
    "bins = 3\n",
    "columns = 10 \n",
    "colormap = 'viridis'\n"
   ]
  },
  {
   "cell_type": "code",
   "execution_count": null,
   "metadata": {},
   "outputs": [],
   "source": [
    "##### MAIN CODE #####\n",
    "\n",
    "#readfile\n",
    "file = pd.read_hdf(name)\n",
    "\n",
    "#unhash if need to remove extraneous column",
    "#file = file.drop(labels = [22.0], axis =1)\n",
    "\n",
    "#slice the dataframe \n",
    "sliceSize = int(len(file)/bins)\n",
    "\n",
    "#lists needed for custom key for final graph \n",
    "custom_lines = [] \n",
    "keyNames = []\n",
    "\n",
    "i_file = 0 \n",
    "for i in range(0,(bins)): \n",
    "    if i_file < bins: \n",
    "        df = file.iloc[(i*sliceSize):((i+1)*sliceSize)]\n",
    "    else: \n",
    "        df = file.iloc[(i*sliceSize):]\n",
    "    i_file = i_file + 1\n",
    "    keyNames.append(str(i_file))\n",
    "    \n",
    "    #Making a giant array containing all values(x) in all columns/all rows within each bin # of df  \n",
    "    count = 0 \n",
    "    list1 = []\n",
    "    while count < columns: \n",
    "        array = []\n",
    "        list1.append(df.iloc[:,count].values)\n",
    "        count = count + 1 \n",
    "    \n",
    "    newlist1 = []\n",
    "    for array in list1: \n",
    "        for i in array: \n",
    "            if i == float(i): \n",
    "                newlist1.append(i)\n",
    "                \n",
    "    #make color for bin # \n",
    "    cm = pylab.get_cmap(colormap) \n",
    "    color = cm(1.*i_file/bins)\n",
    "    \n",
    "    #kernel density plot based on frequency of x within giant array for each bin #\n",
    "    ax = sns.kdeplot(newlist1, color = color)\n",
    "    \n",
    "    plt.title(\"Title\")\n",
    "    plt.xlabel(\"x-axis\")\n",
    "    plt.ylabel(\"y-axis\")\n",
    "    plt.xlim()\n",
    "    plt.ylim()\n",
    "    custom_lines.append(Line2D([0], [0], color= color, lw=4))\n",
    "        \n",
    "ax.legend(custom_lines, keyNames)"
   ]
  }
 ],
 "metadata": {
  "kernelspec": {
   "display_name": "Python 3",
   "language": "python",
   "name": "python3"
  },
  "language_info": {
   "codemirror_mode": {
    "name": "ipython",
    "version": 3
   },
   "file_extension": ".py",
   "mimetype": "text/x-python",
   "name": "python",
   "nbconvert_exporter": "python",
   "pygments_lexer": "ipython3",
   "version": "3.6.5"
  }
 },
 "nbformat": 4,
 "nbformat_minor": 2
}
